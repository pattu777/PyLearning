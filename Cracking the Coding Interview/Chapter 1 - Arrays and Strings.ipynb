{
 "cells": [
  {
   "cell_type": "code",
   "execution_count": 24,
   "metadata": {
    "collapsed": false
   },
   "outputs": [
    {
     "name": "stdout",
     "output_type": "stream",
     "text": [
      "Success: test_unique\n"
     ]
    }
   ],
   "source": [
    "# Determine if a string contains unique characters\t\n",
    "\n",
    "import sys\n",
    "\n",
    "import unittest\n",
    "\n",
    "def unique_chars(data):\n",
    "    \"\"\"Using Hash map.\"\"\"\n",
    "    if data is None or len(data) == 0:\n",
    "        return False\n",
    "    chars = {}\n",
    "    for x in data:\n",
    "        if x not in chars:\n",
    "            chars[x] = 1\n",
    "        else:\n",
    "            return False\n",
    "        \n",
    "    return True\n",
    "\n",
    "def unique_set(data):\n",
    "    \"\"\"Using set data structure.\"\"\"\n",
    "    if data is None:\n",
    "        return False\n",
    "    else:\n",
    "        chars = set()\n",
    "        for x in data:\n",
    "            if x in chars:\n",
    "                return False\n",
    "            else:\n",
    "                chars.add(x)\n",
    "                \n",
    "        return True\n",
    "\n",
    "\n",
    "class MyTest(object):\n",
    "    def test_unique(self, solution):\n",
    "        assert_equal(solution(\"ABCDEGQ\"), True)\n",
    "        assert_equal(solution(''), False)\n",
    "        assert_equal(solution('Hello World'), False)\n",
    "        assert_equal(solution(\"SDASe13123sda\"), False)\n",
    "        print 'Success: test_unique'\n",
    "\n",
    "\n",
    "def main():\n",
    "    test = MyTest()\n",
    "    test.test_unique(unique_chars)\n",
    "    \n",
    "    \n",
    "if __name__ == '__main__':\n",
    "    main()\n",
    "    "
   ]
  },
  {
   "cell_type": "code",
   "execution_count": 25,
   "metadata": {
    "collapsed": false
   },
   "outputs": [
    {
     "name": "stdout",
     "output_type": "stream",
     "text": [
      "Success: test_anagram\n"
     ]
    }
   ],
   "source": [
    "# Determine if a string is an anagram of another\n",
    "\n",
    "import sys\n",
    "\n",
    "import unittest\n",
    "\n",
    "def sorted_anagram(data1, data2):\n",
    "    \"\"\"Compare the sorted version of both strings.\"\"\"\n",
    "    if data1 is None or data2 is None:\n",
    "        return False\n",
    "    else:\n",
    "        return sorted(data1) == sorted(data2)\n",
    "\n",
    "def is_anagram(data1, data2):\n",
    "    chars1 = {}\n",
    "    chars2 = {}\n",
    "    for x in data1:\n",
    "        if x not in chars1.keys():\n",
    "            chars1[x] = 1\n",
    "        else:\n",
    "            chars1[x] += 1\n",
    "            \n",
    "    for x in data2:\n",
    "        if x not in chars2.keys():\n",
    "            chars2[x] = 1\n",
    "        else:\n",
    "            chars2[x] += 1\n",
    "            \n",
    "    if chars1 == chars2:\n",
    "        return True\n",
    "    else:\n",
    "        return False\n",
    "\n",
    "\n",
    "class MyTest(object):\n",
    "    def test_anagram(self, solution):\n",
    "        assert_equal(solution(\"ABCD\", \"BCAD\"), True)\n",
    "        assert_equal(solution('', ''), True)\n",
    "        assert_equal(solution('1234567890', '0987654321'), True)\n",
    "        assert_equal(solution(\"dsadas\", \"1231dsada\"), False)\n",
    "        print 'Success: test_anagram'\n",
    "\n",
    "\n",
    "def main():\n",
    "    test = MyTest()\n",
    "    test.test_anagram(sorted_anagram)\n",
    "    \n",
    "    \n",
    "if __name__ == '__main__':\n",
    "    main()"
   ]
  },
  {
   "cell_type": "code",
   "execution_count": 30,
   "metadata": {
    "collapsed": false
   },
   "outputs": [
    {
     "name": "stdout",
     "output_type": "stream",
     "text": [
      "Success: test_replace_space\n"
     ]
    }
   ],
   "source": [
    "# Write a method to replace spaces in a string with \"%20\".\n",
    "\n",
    "from nose.tools import assert_equal\n",
    "\n",
    "\n",
    "def replace_space(data):\n",
    "    if data is None:\n",
    "        return None\n",
    "    \n",
    "    out = \"\"\n",
    "    for x in data:\n",
    "        if x == ' ':\n",
    "            out += \"%20\"\n",
    "        else:\n",
    "            out += x\n",
    "    return out\n",
    "\n",
    "def replace_space_arr(data):\n",
    "    if data is None:\n",
    "        return None\n",
    "    \n",
    "    out = []\n",
    "    for x in data:\n",
    "        if x == \" \":\n",
    "            out.extend(['%', '2', '0'])\n",
    "        else:\n",
    "            out.append(x)\n",
    "    return \"\".join(out)\n",
    "\n",
    "def replace_space_efficient(data):\n",
    "    if data is None or len(data) == 0:\n",
    "        return data\n",
    "    else:\n",
    "        size = len(data)\n",
    "        for x in xrange(size):\n",
    "            if data[x] == \" \":\n",
    "                for y in xrange(size, x+1, -1):\n",
    "                    \n",
    "                    \n",
    "    \n",
    "def replace_split(data):\n",
    "    if data is None:\n",
    "        return data\n",
    "    else:\n",
    "        out = data.split()\n",
    "        return \"%20\".join(out)\n",
    "\n",
    "                \n",
    "class TestSpaceReplace(object):\n",
    "    def test_replace_space(self, solution):\n",
    "        assert_equal(solution(\"hello world\"), \"hello%20world\")\n",
    "        assert_equal(solution(\"\"), \"\")\n",
    "        #assert_equal(solution(\" \"), \"%20\")\n",
    "        assert_equal(solution(\"Ahoj.\"), \"Ahoj.\")\n",
    "        assert_equal(solution(None), None)\n",
    "        print 'Success: test_replace_space'\n",
    "\n",
    "\n",
    "def main():\n",
    "    test = TestSpaceReplace()\n",
    "    test.test_replace_space(replace_split)\n",
    "    \n",
    "\n",
    "if __name__ == '__main__':\n",
    "    main()\n"
   ]
  },
  {
   "cell_type": "code",
   "execution_count": null,
   "metadata": {
    "collapsed": true
   },
   "outputs": [],
   "source": [
    "# "
   ]
  }
 ],
 "metadata": {
  "kernelspec": {
   "display_name": "Python 2",
   "language": "python",
   "name": "python2"
  },
  "language_info": {
   "codemirror_mode": {
    "name": "ipython",
    "version": 2
   },
   "file_extension": ".py",
   "mimetype": "text/x-python",
   "name": "python",
   "nbconvert_exporter": "python",
   "pygments_lexer": "ipython2",
   "version": "2.7.11+"
  }
 },
 "nbformat": 4,
 "nbformat_minor": 0
}
