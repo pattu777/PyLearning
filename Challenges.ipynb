{
 "cells": [
  {
   "cell_type": "code",
   "execution_count": 21,
   "metadata": {
    "collapsed": false
   },
   "outputs": [
    {
     "name": "stdout",
     "output_type": "stream",
     "text": [
      "Overwriting unique.py\n"
     ]
    }
   ],
   "source": [
    "%%writefile unique.py\n",
    "\n",
    "# Determine if a string contains unique characters\t\n",
    "\n",
    "import unittest\n",
    "\n",
    "def unique_chars(data):\n",
    "    \"\"\"Using Hash map.\"\"\"\n",
    "    if data is None or len(data) == 0:\n",
    "        return False\n",
    "    chars = {}\n",
    "    for x in data:\n",
    "        if x not in chars.keys():\n",
    "            chars[x] = 1\n",
    "        else:\n",
    "            return False\n",
    "        \n",
    "    return True\n",
    "\n",
    "def unique_set(data):\n",
    "    \"\"\"Using set data structure.\"\"\"\n",
    "    if data is None:\n",
    "        return False\n",
    "    else:\n",
    "        chars = set()\n",
    "        for x in data:\n",
    "            if x in chars:\n",
    "                return False\n",
    "            else:\n",
    "                chars.add(x)\n",
    "                \n",
    "        return True\n",
    "\n",
    "        \n",
    "    \n",
    "class MyTest(unittest.TestCase):\n",
    "    def __init__(self, *args, **kwargs):\n",
    "        super(MyTest, self).__init__(*args, **kwargs)\n",
    "        \n",
    "    def test_unique(self):\n",
    "        self.assertTrue(unique_set(\"ABSCDQWOU\"))\n",
    "        self.assertFalse(unique_set(\"AAA\"))\n",
    "        self.assertTrue(unique_set([x for x in xrange(10)]))\n",
    "        \n",
    "if __name__ == '__main__':\n",
    "    unittest.main()\n"
   ]
  },
  {
   "cell_type": "code",
   "execution_count": 22,
   "metadata": {
    "collapsed": false
   },
   "outputs": [
    {
     "name": "stderr",
     "output_type": "stream",
     "text": [
      ".\n",
      "----------------------------------------------------------------------\n",
      "Ran 1 test in 0.002s\n",
      "\n",
      "OK\n"
     ]
    }
   ],
   "source": [
    "run unique.py"
   ]
  },
  {
   "cell_type": "code",
   "execution_count": 23,
   "metadata": {
    "collapsed": false
   },
   "outputs": [
    {
     "name": "stdout",
     "output_type": "stream",
     "text": [
      "Writing permutation.py\n"
     ]
    }
   ],
   "source": [
    "%%writefile permutation.py\n",
    "# Determine if a string is a permutation of another\n",
    "\n",
    "import unittest\n",
    "\n",
    "def sorted_permut(data1, data2):\n",
    "    \"\"\"Compare the sorted version of both strings.\"\"\"\n",
    "    if data1 is None or data2 is None:\n",
    "        return False\n",
    "    else:\n",
    "        return sorted(data1) == sorted(data2)\n",
    "\n",
    "def is_permutation(data1, data2):\n",
    "    chars1 = {}\n",
    "    chars2 = {}\n",
    "    for x in data1:\n",
    "        if x not in chars1.keys():\n",
    "            chars1[x] = 1\n",
    "        else:\n",
    "            chars1[x] += 1\n",
    "            \n",
    "    for x in data2:\n",
    "        if x not in chars2.keys():\n",
    "            chars2[x] = 1\n",
    "        else:\n",
    "            chars2[x] += 1\n",
    "            \n",
    "    if chars1 == chars2:\n",
    "        return True\n",
    "    else:\n",
    "        return False\n",
    "\n",
    "    \n",
    "class MyTest(unittest.TestCase):\n",
    "    def __init__(self, *args, **kwargs):\n",
    "        super(MyTest, self).__init__(*args, **kwargs)\n",
    "        \n",
    "    def test_unique(self):\n",
    "        self.assertTrue(sorted_permut(\"ABCD\", \"BCAD\"))\n",
    "        self.assertTrue(sorted_permut('', \"\"))\n",
    "        self.assertTrue(sorted_permut('1234567890', '0987654321'))\n",
    "        self.assertFalse(sorted_permut(\"dsadas\", \"1231dsada\"))\n",
    "        \n",
    "if __name__ == '__main__':\n",
    "    unittest.main()\n"
   ]
  },
  {
   "cell_type": "code",
   "execution_count": 24,
   "metadata": {
    "collapsed": false
   },
   "outputs": [
    {
     "name": "stderr",
     "output_type": "stream",
     "text": [
      ".\n",
      "----------------------------------------------------------------------\n",
      "Ran 1 test in 0.002s\n",
      "\n",
      "OK\n"
     ]
    }
   ],
   "source": [
    "run permutation.py"
   ]
  },
  {
   "cell_type": "code",
   "execution_count": null,
   "metadata": {
    "collapsed": true
   },
   "outputs": [],
   "source": [
    "# Reverse words in a string.\n",
    "\n",
    "def reverse_words(data):\n",
    "    pass\n",
    "\n",
    "reverse_words(\"Hello World\")\n",
    "reverse_words(\"\")\n",
    "reverse_words(\"Hillary Clinton is a liar.\")"
   ]
  }
 ],
 "metadata": {
  "kernelspec": {
   "display_name": "Python 2",
   "language": "python",
   "name": "python2"
  },
  "language_info": {
   "codemirror_mode": {
    "name": "ipython",
    "version": 2
   },
   "file_extension": ".py",
   "mimetype": "text/x-python",
   "name": "python",
   "nbconvert_exporter": "python",
   "pygments_lexer": "ipython2",
   "version": "2.7.11+"
  }
 },
 "nbformat": 4,
 "nbformat_minor": 0
}
