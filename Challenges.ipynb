{
 "cells": [
  {
   "cell_type": "code",
   "execution_count": 27,
   "metadata": {
    "collapsed": false
   },
   "outputs": [
    {
     "name": "stderr",
     "output_type": "stream",
     "text": [
      ".\n",
      "----------------------------------------------------------------------\n",
      "Ran 1 test in 0.001s\n",
      "\n",
      "OK\n"
     ]
    }
   ],
   "source": [
    "# Determine if a string contains unique characters\t\n",
    "\n",
    "import sys\n",
    "\n",
    "import unittest\n",
    "\n",
    "def unique_chars(data):\n",
    "    \"\"\"Using Hash map.\"\"\"\n",
    "    if data is None or len(data) == 0:\n",
    "        return False\n",
    "    chars = {}\n",
    "    for x in data:\n",
    "        if x not in chars.keys():\n",
    "            chars[x] = 1\n",
    "        else:\n",
    "            return False\n",
    "        \n",
    "    return True\n",
    "\n",
    "def unique_set(data):\n",
    "    \"\"\"Using set data structure.\"\"\"\n",
    "    if data is None:\n",
    "        return False\n",
    "    else:\n",
    "        chars = set()\n",
    "        for x in data:\n",
    "            if x in chars:\n",
    "                return False\n",
    "            else:\n",
    "                chars.add(x)\n",
    "                \n",
    "        return True\n",
    "\n",
    "        \n",
    "    \n",
    "class MyTest(unittest.TestCase):\n",
    "    def test_unique(self):\n",
    "        self.assertTrue(unique_set(\"ABSCDQWOU\"))\n",
    "        self.assertFalse(unique_set(\"AAA\"))\n",
    "        self.assertTrue(unique_set([x for x in xrange(10)]))\n",
    "        \n",
    "if __name__ == '__main__':\n",
    "    suite = unittest.TestLoader().loadTestsFromTestCase(MyTest)\n",
    "    unittest.TextTestRunner(verbosity=1, stream=sys.stderr).run(suite)\n"
   ]
  },
  {
   "cell_type": "code",
   "execution_count": 48,
   "metadata": {
    "collapsed": false,
    "scrolled": true
   },
   "outputs": [
    {
     "name": "stderr",
     "output_type": "stream",
     "text": [
      "test_unique (__main__.MyTest) ... ok\n",
      "\n",
      "----------------------------------------------------------------------\n",
      "Ran 1 test in 0.025s\n",
      "\n",
      "OK\n"
     ]
    }
   ],
   "source": [
    "# Determine if a string is an anagram of another\n",
    "\n",
    "import sys\n",
    "\n",
    "import unittest\n",
    "\n",
    "def sorted_anagram(data1, data2):\n",
    "    \"\"\"Compare the sorted version of both strings.\"\"\"\n",
    "    if data1 is None or data2 is None:\n",
    "        return False\n",
    "    else:\n",
    "        return sorted(data1) == sorted(data2)\n",
    "\n",
    "def is_anagram(data1, data2):\n",
    "    chars1 = {}\n",
    "    chars2 = {}\n",
    "    for x in data1:\n",
    "        if x not in chars1.keys():\n",
    "            chars1[x] = 1\n",
    "        else:\n",
    "            chars1[x] += 1\n",
    "            \n",
    "    for x in data2:\n",
    "        if x not in chars2.keys():\n",
    "            chars2[x] = 1\n",
    "        else:\n",
    "            chars2[x] += 1\n",
    "            \n",
    "    if chars1 == chars2:\n",
    "        return True\n",
    "    else:\n",
    "        return False\n",
    "\n",
    "    \n",
    "class MyTest(unittest.TestCase):\n",
    "    def test_unique(self):\n",
    "        self.assertTrue(sorted_anagram(\"ABCD\", \"BCAD\"))\n",
    "        self.assertTrue(sorted_anagram('', \"\"))\n",
    "        self.assertTrue(sorted_anagram('1234567890', '0987654321'))\n",
    "        self.assertFalse(sorted_anagram(\"dsadas\", \"1231dsada\"))\n",
    "        \n",
    "if __name__ == '__main__':\n",
    "    unittest.main(argv=['ignored', '-v'], exit=False)\n"
   ]
  },
  {
   "cell_type": "code",
   "execution_count": 2,
   "metadata": {
    "collapsed": false
   },
   "outputs": [
    {
     "name": "stderr",
     "output_type": "stream",
     "text": [
      "test_flatten (__main__.MyTest) ... ok\n",
      "\n",
      "----------------------------------------------------------------------\n",
      "Ran 1 test in 0.001s\n",
      "\n",
      "OK\n"
     ]
    }
   ],
   "source": [
    "# Flatten a list.\n",
    "\n",
    "import sys\n",
    "import unittest\n",
    "import collections\n",
    "\n",
    "data = [\n",
    "    [[1, 2, [3]], 4, [5]], [], \n",
    "    [x for x in xrange(10)], \n",
    "    [1, [], 2, 3, [3, '', []]], \n",
    "    [[1], 2, [[3, 4], 5], [[[]]], [[[6]]], 7, 8, []], \n",
    "    [\"junk\",[\"nested stuff\"],[],[[]]]\n",
    "]\n",
    "\n",
    "def flatten(data):\n",
    "    \"\"\"Simple recursive flatten.\"\"\"\n",
    "    ret = []\n",
    "    for x in data:\n",
    "        if isinstance(x, list):\n",
    "            ret.extend(flatten(x))\n",
    "        elif x != '':\n",
    "            ret.append(x)\n",
    "    return ret\n",
    "\n",
    "def flatten_using_morph(data):\n",
    "    \"\"\"Flatten a list using morph library.\"\"\"\n",
    "    return morph.flatten(data)\n",
    "\n",
    "def flatten_using_funcy(data):\n",
    "    \"\"\"Flatten a list using funcy library.\"\"\"\n",
    "    return funcy.flatten(data)\n",
    "            \n",
    "# Incomplete.\n",
    "def flatten_comprehension(data):\n",
    "    \"\"\"Flatten a list using list comprehension.\"\"\"\n",
    "    return [x for y in data for x in y if isinstance(y, list)]\n",
    "\n",
    "# Incomplete.\n",
    "def flatten_itertools(data):\n",
    "    \"\"\"Flatten a list using itertools.\"\"\"\n",
    "    return list(itertools.chain.from_iterable(data))\n",
    "\n",
    "class MyTest(unittest.TestCase):\n",
    "    def test_flatten(self):\n",
    "        self.assertEqual(flatten([[1, 2, [3]], 4, [5]]), [1, 2, 3, 4, 5])\n",
    "        self.assertEqual(flatten([x for x in xrange(10)]), [0, 1, 2, 3, 4, 5, 6, 7, 8, 9])\n",
    "        self.assertEqual(flatten([1, [], 2, 3, [4, '', []]]), [1, 2, 3, 4])\n",
    "        self.assertEqual(flatten([[1], 2, [[3, 4], 5], [[[]]], [[[6]]], 7, 8, []]), [1, 2, 3, 4, 5, 6, 7, 8])\n",
    "        self.assertEqual(flatten([\"junk\",[\"nested stuff\"],[],[[]]]), ['junk', 'nested stuff'])\n",
    "        \n",
    "if __name__ == '__main__':\n",
    "    unittest.main(argv=['ignored', '-v'], exit=False)\n",
    "    "
   ]
  },
  {
   "cell_type": "code",
   "execution_count": 28,
   "metadata": {
    "collapsed": false
   },
   "outputs": [
    {
     "name": "stderr",
     "output_type": "stream",
     "text": [
      "test_reverse (__main__.MyTest) ... ok\n",
      "test_reverse_words (__main__.MyTest) ... ok\n",
      "\n",
      "----------------------------------------------------------------------\n",
      "Ran 2 tests in 0.002s\n",
      "\n",
      "OK\n"
     ]
    }
   ],
   "source": [
    "# Reverse a string.\n",
    "\n",
    "import sys\n",
    "\n",
    "import unittest\n",
    "\n",
    "def reverse_words(data):\n",
    "    if data is None:\n",
    "        return None\n",
    "    else:\n",
    "        return data[::-1] \n",
    "\n",
    "def reverse_loop(data):\n",
    "    if data is None:\n",
    "        return None\n",
    "    else:\n",
    "        result = []\n",
    "        for x in data:\n",
    "            result.insert(0, x)\n",
    "        return \"\".join(result)\n",
    "\n",
    "class MyTest(unittest.TestCase):\n",
    "    def test_reverse(self):\n",
    "        self.assertEqual(reverse_loop(\"Hello World\"), \"dlroW olleH\")\n",
    "        self.assertEqual(reverse_loop(''), '')\n",
    "        self.assertEqual(reverse_loop(None), None)\n",
    "        self.assertEqual(reverse_loop(\"Hillary Clinton is a liar\"), \"rail a si notnilC yralliH\")\n",
    "        \n",
    "    def test_reverse_words(self):\n",
    "        self.assertEqual(reverse_words(\"Hello World\"), \"dlroW olleH\")\n",
    "        self.assertEqual(reverse_words(''), '')\n",
    "        self.assertEqual(reverse_words(None), None)\n",
    "        self.assertEqual(reverse_words(\"Hillary Clinton is a liar\"), \"rail a si notnilC yralliH\")\n",
    "        \n",
    "if __name__ == '__main__':\n",
    "    unittest.main(argv=['ignored', '-v'], exit=False)\n",
    "    "
   ]
  },
  {
   "cell_type": "code",
   "execution_count": 26,
   "metadata": {
    "collapsed": false
   },
   "outputs": [
    {
     "name": "stderr",
     "output_type": "stream",
     "text": [
      "test_reverse (__main__.MyTest) ... ok\n",
      "\n",
      "----------------------------------------------------------------------\n",
      "Ran 1 test in 0.001s\n",
      "\n",
      "OK\n"
     ]
    }
   ],
   "source": [
    "# Reverse a list.\n",
    "\n",
    "import unittest\n",
    "\n",
    "def reverse(arr):\n",
    "    if arr:\n",
    "        arr[::-1]\n",
    "    \n",
    "def reverse_loop(arr):\n",
    "    if arr:\n",
    "        size = len(arr)-1\n",
    "        i = 0\n",
    "        while i<=size:\n",
    "            arr[i], arr[size-i] = arr[size-i], arr[i]\n",
    "            i += 1\n",
    "            size -= 1\n",
    "            \n",
    "        return arr\n",
    "\n",
    "def reverse_new(arr):\n",
    "    if arr:\n",
    "        out = []\n",
    "        for x in arr:\n",
    "            out.insert(0, x)\n",
    "        return out\n",
    "\n",
    "class MyTest(unittest.TestCase):\n",
    "    def test_reverse(self):\n",
    "        self.assertEqual(reverse([x for x in xrange(100)]), [99-x for x in xrange(100)])\n",
    "        \n",
    "    def test_reverse(self):\n",
    "        self.assertEqual(reverse_loop([x for x in xrange(100)]), [99-x for x in xrange(100)])\n",
    "        \n",
    "    def test_reverse(self):\n",
    "        self.assertEqual(reverse_new([x for x in xrange(100)]), [99-x for x in xrange(100)])\n",
    "    \n",
    "if __name__ == '__main__':\n",
    "    unittest.main(argv=['ignored', '-v'], exit=False)"
   ]
  },
  {
   "cell_type": "code",
   "execution_count": 20,
   "metadata": {
    "collapsed": false
   },
   "outputs": [
    {
     "name": "stderr",
     "output_type": "stream",
     "text": [
      "test_merge (__main__.MyTest) ... ok\n",
      "\n",
      "----------------------------------------------------------------------\n",
      "Ran 1 test in 0.006s\n",
      "\n",
      "OK\n"
     ]
    }
   ],
   "source": [
    "# Merge two sorted lists.\n",
    "\n",
    "def merge(arr1, arr2):\n",
    "    if arr1 is None or len(arr1) == 0:\n",
    "        return arr2\n",
    "    elif arr2 is None or len(arr2) == 0:\n",
    "        return arr1\n",
    "    else:\n",
    "        out = []\n",
    "        size1 = len(arr1)\n",
    "        size2 = len(arr2)\n",
    "        i = 0\n",
    "        j = 0\n",
    "        while i < size1 and j < size2:\n",
    "            if arr1[i] < arr2[j]:\n",
    "                out.append(arr1[i])\n",
    "                i += 1\n",
    "            elif arr1[i] > arr2[j]:\n",
    "                out.append(arr2[j])\n",
    "                j += 1\n",
    "            else:\n",
    "                out.append(arr1[i])\n",
    "                out.append(arr2[j])\n",
    "                i += 1\n",
    "                j += 1\n",
    "            \n",
    "        if i != size1:\n",
    "            out.extend(arr1[i:])\n",
    "                \n",
    "        if j != size2:\n",
    "            out.extend(arr2[j:])\n",
    "                  \n",
    "        return out\n",
    "                    \n",
    "class MyTest(unittest.TestCase):\n",
    "    def test_merge(self):\n",
    "        self.assertEqual(merge([x for x in xrange(1000)], [x for x in xrange(1000, 20000)]), [x for x in xrange(20000)])\n",
    "        self.assertEqual(merge([], []), [])\n",
    "        self.assertEqual(merge([x for x in xrange(100)], []), [x for x in xrange(100)])\n",
    "\n",
    "        \n",
    "if __name__ == '__main__':\n",
    "    unittest.main(argv=['ignored', '-v'], exit=False)\n",
    "    "
   ]
  },
  {
   "cell_type": "code",
   "execution_count": 25,
   "metadata": {
    "collapsed": false
   },
   "outputs": [
    {
     "name": "stdout",
     "output_type": "stream",
     "text": [
      "[1, 2, 3, 12, 342]\n"
     ]
    }
   ],
   "source": [
    "# Remove duplicates from a list.\n",
    "\n",
    "def remove_duplicates(arr):\n",
    "    if arr:\n",
    "        return list(set(arr))\n",
    "        \n",
    "def dups_loop(arr):\n",
    "    if arr:\n",
    "        d = {}\n",
    "        for x in arr:\n",
    "            d[x] = 1\n",
    "        return list(d.keys())\n",
    "            \n",
    "        \n",
    "if __name__ == '__main__':\n",
    "    print remove_duplicates([1, 2, 3, 2, 342, 12, 1, 342])"
   ]
  },
  {
   "cell_type": "code",
   "execution_count": 44,
   "metadata": {
    "collapsed": false
   },
   "outputs": [
    {
     "name": "stderr",
     "output_type": "stream",
     "text": [
      "test_fib (__main__.MyTest) ... ok\n",
      "\n",
      "----------------------------------------------------------------------\n",
      "Ran 1 test in 0.007s\n",
      "\n",
      "OK\n"
     ]
    }
   ],
   "source": [
    "# Fibonacci series.\n",
    "\n",
    "def fib(n):\n",
    "    if n < 2:\n",
    "        return n\n",
    "    else:\n",
    "        return fib(n-1) + fib(n-2)\n",
    "\n",
    "def fib_cache(n):\n",
    "    arr = {0:0, 1:1}\n",
    "    if n in arr:\n",
    "        return arr[n]\n",
    "    else:\n",
    "        for x in xrange(2, n+1):\n",
    "            arr[x] = arr[x-1] + arr[x-2]\n",
    "    \n",
    "    return arr[n]\n",
    "    \n",
    "    \n",
    "class MyTest(unittest.TestCase):\n",
    "    def test_fib(self):\n",
    "        self.assertEqual(fib(0), 0)\n",
    "        self.assertEqual(fib(1), 1)\n",
    "        self.assertEqual(fib(10), 55)\n",
    "        self.assertEqual(fib(20), 6765)\n",
    "        #self.assertEqual(fib(50), 12586269025)\n",
    "        #self.assertEqual(fib(500), 139423224561697880139724382870407283950070256587697307264108962948325571622863290691557658876222521294125)\n",
    "        \n",
    "\n",
    "if __name__ == '__main__':\n",
    "    #print fib_cache(500)\n",
    "    unittest.main(argv=['ignored', '-v'], exit=False)\n",
    "    "
   ]
  },
  {
   "cell_type": "code",
   "execution_count": 58,
   "metadata": {
    "collapsed": false
   },
   "outputs": [
    {
     "name": "stderr",
     "output_type": "stream",
     "text": [
      "test_palindrome (__main__.MyTest) ... ok\n",
      "\n",
      "----------------------------------------------------------------------\n",
      "Ran 1 test in 0.001s\n",
      "\n",
      "OK\n"
     ]
    }
   ],
   "source": [
    "# Check if a string is palindrome or not.\n",
    "\n",
    "def palindrome_reverse(data):\n",
    "    if data is None:\n",
    "        return False\n",
    "    elif len(data) <= 1:\n",
    "        return True\n",
    "    else:\n",
    "        return data == data[::-1]\n",
    "\n",
    "def is_palindrome(data):\n",
    "    if data is None or len(data) == 0:\n",
    "        return True\n",
    "    else:\n",
    "        out = data.lower()\n",
    "        start = 0\n",
    "        end = len(data)-1\n",
    "        while start < end:\n",
    "            if out[start] != out[end]:\n",
    "                return False\n",
    "            start += 1\n",
    "            end -= 1\n",
    "        return True\n",
    "    \n",
    "    \n",
    "class MyTest(unittest.TestCase):\n",
    "    def test_palindrome(self):\n",
    "        self.assertTrue(palindrome_reverse(\"\"))\n",
    "        self.assertTrue(palindrome_reverse(\"helleh\"))\n",
    "        self.assertFalse(palindrome_reverse(\"hello world\"))\n",
    "        self.assertTrue(palindrome_reverse(\"anna\"))\n",
    "        \n",
    "\n",
    "if __name__ == '__main__':\n",
    "    unittest.main(argv=['ignored', '-v'], exit=False)"
   ]
  },
  {
   "cell_type": "code",
   "execution_count": 59,
   "metadata": {
    "collapsed": false
   },
   "outputs": [
    {
     "name": "stderr",
     "output_type": "stream",
     "text": [
      "test_words (__main__.MyTest) ... ok\n",
      "\n",
      "----------------------------------------------------------------------\n",
      "Ran 1 test in 0.001s\n",
      "\n",
      "OK\n"
     ]
    }
   ],
   "source": [
    "# Count the number of words in a string.\n",
    "\n",
    "import string\n",
    "\n",
    "def count_words(data):\n",
    "    if data is None or len(data) == 0:\n",
    "        return 0\n",
    "    else:\n",
    "        return len(data.split())\n",
    "\n",
    "class MyTest(unittest.TestCase):\n",
    "    def test_words(self):\n",
    "        self.assertEqual(count_words(\"\"), 0)\n",
    "        self.assertEqual(count_words(\"Hello World\"), 2)\n",
    "        self.assertEqual(count_words(\"My name is Chinmaya Kumar Patanaik.\"), 6)\n",
    "        self.assertEqual(count_words(\" \".join([x for x in string.ascii_lowercase])), 26)\n",
    "\n",
    "if __name__ == '__main__':\n",
    "    unittest.main(argv=['ignored', '-v'], exit=False)\n"
   ]
  },
  {
   "cell_type": "code",
   "execution_count": 70,
   "metadata": {
    "collapsed": false
   },
   "outputs": [
    {
     "name": "stderr",
     "output_type": "stream",
     "text": [
      "test_compress (__main__.MyTest) ... "
     ]
    },
    {
     "name": "stdout",
     "output_type": "stream",
     "text": [
      "Success: test_compress\n"
     ]
    },
    {
     "name": "stderr",
     "output_type": "stream",
     "text": [
      "ok\n",
      "\n",
      "----------------------------------------------------------------------\n",
      "Ran 1 test in 0.059s\n",
      "\n",
      "OK\n"
     ]
    }
   ],
   "source": [
    "# Compress a string\n",
    "\n",
    "def compress(string):\n",
    "    if string is None or len(string) == 0:\n",
    "        return string\n",
    "    \n",
    "    result = ''\n",
    "    prev_char = string[0]\n",
    "    count = 0\n",
    "    \n",
    "    for char in string:\n",
    "        if char == prev_char:\n",
    "            count += 1\n",
    "        else:\n",
    "            result += prev_char + (str(count) if count > 1 else '')\n",
    "            prev_char = char\n",
    "            count = 1\n",
    "\n",
    "    result += prev_char\n",
    "    if count > 1:\n",
    "        result += str(count)\n",
    "        \n",
    "    if len(result) < len(string):\n",
    "        return result\n",
    "    else:\n",
    "        return string\n",
    "\n",
    "\n",
    "class MyTest(unittest.TestCase):\n",
    "    def test_compress(self):\n",
    "        self.assertEqual(compress(None), None)\n",
    "        self.assertEqual(compress(''), '')\n",
    "        self.assertEqual(compress('AABBCC'), 'AABBCC')\n",
    "        self.assertEqual(compress('AAABCCDDDD'), 'A3BC2D4')\n",
    "        print('Success: test_compress')\n",
    "\n",
    "if __name__ == '__main__':\n",
    "    unittest.main(argv=['ignored', '-v'], exit=False)"
   ]
  },
  {
   "cell_type": "code",
   "execution_count": 2,
   "metadata": {
    "collapsed": false
   },
   "outputs": [
    {
     "name": "stdout",
     "output_type": "stream",
     "text": [
      "abc\n",
      "acb\n",
      "bac\n",
      "bca\n",
      "cba\n",
      "cab\n"
     ]
    }
   ],
   "source": [
    "# Return a list of all permutations of a string\n",
    "\n",
    "def permute(data, low, high):\n",
    "    if low == high:\n",
    "        print \"\".join(data)\n",
    "    else:\n",
    "        for x in xrange(low, high+1):\n",
    "            data[low], data[x] = data[x], data[low]\n",
    "            permute(data, low+1, high)\n",
    "            data[low], data[x] = data[x], data[low]\n",
    "\n",
    "s = 'abc'\n",
    "data = list(s)\n",
    "permute(data, 0, len(data)-1)\n",
    "    "
   ]
  },
  {
   "cell_type": "code",
   "execution_count": null,
   "metadata": {
    "collapsed": true
   },
   "outputs": [],
   "source": []
  }
 ],
 "metadata": {
  "kernelspec": {
   "display_name": "Python 2",
   "language": "python",
   "name": "python2"
  },
  "language_info": {
   "codemirror_mode": {
    "name": "ipython",
    "version": 2
   },
   "file_extension": ".py",
   "mimetype": "text/x-python",
   "name": "python",
   "nbconvert_exporter": "python",
   "pygments_lexer": "ipython2",
   "version": "2.7.11+"
  }
 },
 "nbformat": 4,
 "nbformat_minor": 0
}
