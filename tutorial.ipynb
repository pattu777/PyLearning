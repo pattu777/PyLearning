{
 "cells": [
  {
   "cell_type": "code",
   "execution_count": 4,
   "metadata": {
    "collapsed": false
   },
   "outputs": [
    {
     "name": "stdout",
     "output_type": "stream",
     "text": [
      "{0: 'a', 1: 'b', 2: 'c', 3: 'd', 4: 'e', 5: 'f', 6: 'g', 7: 'h', 8: 'i', 9: 'j', 10: 'k', 11: 'l', 12: 'm', 13: 'n', 14: 'o', 15: 'p', 16: 'q', 17: 'r', 18: 's', 19: 't', 20: 'u', 21: 'v', 22: 'w', 23: 'x', 24: 'y', 25: 'z'}\n"
     ]
    }
   ],
   "source": [
    "# Create a list of all alphabets\n",
    "import string\n",
    "\n",
    "final = {i: x for i, x in enumerate(string.ascii_lowercase)}\n",
    "#final.update({x+26:x for x in xrange(10)})\n",
    "print final\n"
   ]
  },
  {
   "cell_type": "code",
   "execution_count": 3,
   "metadata": {
    "collapsed": false
   },
   "outputs": [
    {
     "name": "stdout",
     "output_type": "stream",
     "text": [
      "cb\n"
     ]
    }
   ],
   "source": [
    "# Shorten a URL.\n",
    "\n",
    "def shorten_url(num):\n",
    "    \"\"\"Return a shortened URL.\"\"\"\n",
    "    short_url = \"\"\n",
    "    digits = []\n",
    "    while num > 0:\n",
    "        remainder = num % 62\n",
    "        digits.append(remainder)\n",
    "        num = num / 62\n",
    "    \n",
    "    for x in reversed(digits):\n",
    "        short_url += final[x]\n",
    "    \n",
    "    return short_url\n",
    "\n",
    "print shorten_url(125)"
   ]
  },
  {
   "cell_type": "code",
   "execution_count": 24,
   "metadata": {
    "collapsed": false
   },
   "outputs": [
    {
     "data": {
      "text/plain": [
       "'a b c d e f g h i j k l m n o p q r s t u v w x y z'"
      ]
     },
     "execution_count": 24,
     "metadata": {},
     "output_type": "execute_result"
    }
   ],
   "source": [
    "import string\n",
    "\n",
    "\" \".join([x for x in string.ascii_lowercase])"
   ]
  },
  {
   "cell_type": "code",
   "execution_count": 7,
   "metadata": {
    "collapsed": false
   },
   "outputs": [
    {
     "data": {
      "text/plain": [
       "[[], [121321, 'Hello'], [], [], [], [], [], [], [], []]"
      ]
     },
     "execution_count": 7,
     "metadata": {},
     "output_type": "execute_result"
    }
   ],
   "source": [
    "a = [[] for x in xrange(10)]\n",
    "a[1].append(121321)\n",
    "a[1].append(-100)\n",
    "a[1].append(\"Hello\")\n",
    "#a\n",
    "a[1].pop(1)\n",
    "a"
   ]
  },
  {
   "cell_type": "code",
   "execution_count": null,
   "metadata": {
    "collapsed": true
   },
   "outputs": [],
   "source": []
  }
 ],
 "metadata": {
  "kernelspec": {
   "display_name": "Python 2",
   "language": "python",
   "name": "python2"
  },
  "language_info": {
   "codemirror_mode": {
    "name": "ipython",
    "version": 2
   },
   "file_extension": ".py",
   "mimetype": "text/x-python",
   "name": "python",
   "nbconvert_exporter": "python",
   "pygments_lexer": "ipython2",
   "version": "2.7.11+"
  }
 },
 "nbformat": 4,
 "nbformat_minor": 0
}
