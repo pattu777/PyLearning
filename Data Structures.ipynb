{
 "cells": [
  {
   "cell_type": "code",
   "execution_count": 9,
   "metadata": {
    "collapsed": false
   },
   "outputs": [
    {
     "name": "stdout",
     "output_type": "stream",
     "text": [
      "9 8 7 6 5 4 3 2 1 0 \n",
      "\n",
      "Number of elements in the list - 10\n"
     ]
    }
   ],
   "source": [
    "# Linked List\n",
    "\n",
    "class Node(object):\n",
    "    def __init__(self, data=None, next_node=None):\n",
    "        self.data = data\n",
    "        self.next_node = next_node\n",
    "        \n",
    "class LinkedList(object):\n",
    "    def __init__(self, head=None):\n",
    "        self.head = head\n",
    "        self.count = 0\n",
    "        \n",
    "    def insert(self, data):\n",
    "        tmp = Node(data)\n",
    "        if self.head is not None:\n",
    "            tmp.next_node = self.head\n",
    "            \n",
    "        self.head = tmp\n",
    "        self.count += 1\n",
    "        \n",
    "    def display(self):\n",
    "        tmp = self.head\n",
    "        while tmp is not None:\n",
    "            print tmp.data,\n",
    "            tmp = tmp.next_node\n",
    "        print \"\\n\"\n",
    "            \n",
    "    def size(self):\n",
    "        print \"Number of elements in the list - %s\" % self.count\n",
    "        \n",
    "\n",
    "if __name__ == '__main__':\n",
    "    ll = LinkedList()\n",
    "    for x in xrange(10):\n",
    "        ll.insert(x)\n",
    "        \n",
    "    ll.display()\n",
    "    ll.size()\n",
    "    "
   ]
  },
  {
   "cell_type": "code",
   "execution_count": null,
   "metadata": {
    "collapsed": true
   },
   "outputs": [],
   "source": []
  }
 ],
 "metadata": {
  "kernelspec": {
   "display_name": "Python 2",
   "language": "python",
   "name": "python2"
  },
  "language_info": {
   "codemirror_mode": {
    "name": "ipython",
    "version": 2
   },
   "file_extension": ".py",
   "mimetype": "text/x-python",
   "name": "python",
   "nbconvert_exporter": "python",
   "pygments_lexer": "ipython2",
   "version": "2.7.11+"
  }
 },
 "nbformat": 4,
 "nbformat_minor": 0
}
