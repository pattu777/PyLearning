{
 "cells": [
  {
   "cell_type": "code",
   "execution_count": 14,
   "metadata": {
    "collapsed": false
   },
   "outputs": [
    {
     "name": "stdout",
     "output_type": "stream",
     "text": [
      "0   False\n",
      "1   False\n",
      "2   True\n",
      "3   True\n",
      "4   False\n",
      "5   True\n",
      "6   False\n",
      "7   True\n",
      "8   False\n",
      "9   False\n",
      "10   False\n",
      "11   True\n",
      "12   False\n",
      "13   True\n",
      "14   False\n",
      "15   False\n",
      "16   False\n",
      "17   True\n",
      "18   False\n",
      "19   True\n",
      "20   False\n",
      "21   False\n",
      "22   False\n",
      "23   True\n",
      "24   False\n",
      "25   False\n",
      "26   False\n",
      "27   False\n",
      "28   False\n",
      "29   True\n",
      "30   False\n",
      "31   True\n"
     ]
    }
   ],
   "source": [
    "# Check if a number is prime or not.\n",
    "\n",
    "from math import sqrt, ceil\n",
    "\n",
    "import unittest\n",
    "\n",
    "def is_prime(num):\n",
    "    \"\"\"Check primality using Sieve of Eratosthenes.\"\"\"\n",
    "    if num <= 1:\n",
    "\t\treturn False\n",
    "    \n",
    "    bool_array = [False, False] + [True] * num\n",
    "    for i in xrange(2, int(ceil(sqrt(num)))):\n",
    "        if bool_array[i]:\n",
    "            for j in xrange(i*i, num+1, i):\n",
    "                bool_array[j] = False\n",
    "    \n",
    "    primes = [i for i in range(num+1) if bool_array[i]]\n",
    "    for i, x in enumerate(bool_array):\n",
    "        print i, \" \", x\n",
    "    \n",
    "    \n",
    "class MyTest(unittest.TestCase):\n",
    "    def test_prime(self):\n",
    "        self.assertTrue(is_prime(29))\n",
    "        self.assertTrue(is_prime(17))\n",
    "        self.assertFalse(is_prime(-101))\n",
    "        self.assertFalse(is_prime(4))\n",
    "        self.assertFalse(is_prime(0))\n",
    "        print('Success: test_prime')\n",
    "\n",
    "if __name__ == '__main__':\n",
    "    is_prime(30)\n",
    "    #unittest.main(argv=['ignored', '-v'], exit=False)"
   ]
  },
  {
   "cell_type": "code",
   "execution_count": null,
   "metadata": {
    "collapsed": true
   },
   "outputs": [],
   "source": []
  }
 ],
 "metadata": {
  "kernelspec": {
   "display_name": "Python 2",
   "language": "python",
   "name": "python2"
  },
  "language_info": {
   "codemirror_mode": {
    "name": "ipython",
    "version": 2
   },
   "file_extension": ".py",
   "mimetype": "text/x-python",
   "name": "python",
   "nbconvert_exporter": "python",
   "pygments_lexer": "ipython2",
   "version": "2.7.11+"
  }
 },
 "nbformat": 4,
 "nbformat_minor": 0
}
