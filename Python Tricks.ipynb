{
 "cells": [
  {
   "cell_type": "code",
   "execution_count": 1,
   "metadata": {
    "collapsed": false
   },
   "outputs": [
    {
     "name": "stdout",
     "output_type": "stream",
     "text": [
      "10   20\n",
      "20   10\n"
     ]
    }
   ],
   "source": [
    "# Swap variables\n",
    "\n",
    "a = 10\n",
    "b = 20\n",
    "print a ,\" \", b\n",
    "\n",
    "a, b = b, a\n",
    "print a ,\" \", b\n"
   ]
  },
  {
   "cell_type": "code",
   "execution_count": 2,
   "metadata": {
    "collapsed": false
   },
   "outputs": [
    {
     "data": {
      "text/plain": [
       "[9, 8, 7, 6, 5, 4, 3, 2, 1, 0]"
      ]
     },
     "execution_count": 2,
     "metadata": {},
     "output_type": "execute_result"
    }
   ],
   "source": [
    "# Reverse a list.\n",
    "\n",
    "arr = [x for x in xrange(10)]\n",
    "arr[::-1]"
   ]
  },
  {
   "cell_type": "code",
   "execution_count": 7,
   "metadata": {
    "collapsed": false
   },
   "outputs": [
    {
     "name": "stdout",
     "output_type": "stream",
     "text": [
      "[0, 1, 2, 3, 4, 5, 6, 7, 8, 9]\n",
      "[0, 1, 2, 3, 4, 5, 6, 7, 8, 9]\n"
     ]
    }
   ],
   "source": [
    "# Make a copy of a list.\n",
    "\n",
    "from copy import deepcopy\n",
    "\n",
    "arr = [x for x in xrange(10)]\n",
    "\n",
    "# Using array slicing.\n",
    "b = arr[:]\n",
    "print b\n",
    "\n",
    "# Using deepcopy function.\n",
    "c = deepcopy(arr)\n",
    "print c"
   ]
  },
  {
   "cell_type": "code",
   "execution_count": 2,
   "metadata": {
    "collapsed": false
   },
   "outputs": [
    {
     "name": "stdout",
     "output_type": "stream",
     "text": [
      "1\n",
      "1\n"
     ]
    }
   ],
   "source": [
    "def product(a, b):\n",
    "    return a * b\n",
    "\n",
    "argument_tuple = (1, 1)\n",
    "argument_dict = {'a': 1, 'b': 1}\n",
    "\n",
    "print(product(*argument_tuple))\n",
    "print(product(**argument_dict))\n"
   ]
  },
  {
   "cell_type": "code",
   "execution_count": 3,
   "metadata": {
    "collapsed": false
   },
   "outputs": [
    {
     "name": "stdout",
     "output_type": "stream",
     "text": [
      "[0, 1, 2, 3, 4, 5, 6, 7, 8, 9]\n",
      "[9, 8, 7, 6, 5, 4, 3, 2, 1, 0]\n"
     ]
    }
   ],
   "source": [
    "a = [x for x in xrange(10)]\n",
    "b = a\n",
    "print a\n",
    "print list(reversed(a))"
   ]
  },
  {
   "cell_type": "code",
   "execution_count": 1,
   "metadata": {
    "collapsed": false
   },
   "outputs": [
    {
     "name": "stdout",
     "output_type": "stream",
     "text": [
      "9\n",
      "10\n"
     ]
    }
   ],
   "source": [
    "def addBy(val):\n",
    "    def func(inc):\n",
    "        return val + inc\n",
    "    return func\n",
    "\n",
    "addFive = addBy(5)\n",
    "print addFive(4)\n",
    "\n",
    "addThree = addBy(3)\n",
    "print addThree(7)    "
   ]
  },
  {
   "cell_type": "code",
   "execution_count": 6,
   "metadata": {
    "collapsed": false
   },
   "outputs": [
    {
     "name": "stdout",
     "output_type": "stream",
     "text": [
      "[('a', 'c', 'e'), ('b', 'd', 'f')]\n"
     ]
    }
   ],
   "source": [
    "#! /usr/bin/env python3\n",
    "\"\"\"transpose 2d array [[a,b], [c,d], [e,f]] -> [[a,c,e], [b,d,f]]\"\"\"\n",
    "\n",
    "original = [['a', 'b'], ['c', 'd'], ['e', 'f']]\n",
    "transposed = zip(*original)\n",
    "print(list(transposed))"
   ]
  },
  {
   "cell_type": "code",
   "execution_count": 21,
   "metadata": {
    "collapsed": false
   },
   "outputs": [
    {
     "name": "stdout",
     "output_type": "stream",
     "text": [
      "3\n"
     ]
    }
   ],
   "source": [
    "import random\n",
    "import numpy\n",
    "\n",
    "a = [x for x in xrange(5)]\n",
    "b = [x for x in xrange(5)]\n",
    "count = 0\n",
    "\n",
    "for x in xrange(100):\n",
    "    numpy.random.shuffle(a)\n",
    "    if b == a:\n",
    "        count += 1\n",
    "        \n",
    "print count"
   ]
  },
  {
   "cell_type": "code",
   "execution_count": 3,
   "metadata": {
    "collapsed": false
   },
   "outputs": [
    {
     "ename": "SyntaxError",
     "evalue": "future feature divison is not defined (<ipython-input-3-ece94d8fce47>, line 1)",
     "output_type": "error",
     "traceback": [
      "\u001b[1;36m  File \u001b[1;32m\"<ipython-input-3-ece94d8fce47>\"\u001b[1;36m, line \u001b[1;32m1\u001b[0m\n\u001b[1;33m    from __future__ import divison\u001b[0m\n\u001b[1;31mSyntaxError\u001b[0m\u001b[1;31m:\u001b[0m future feature divison is not defined\n"
     ]
    }
   ],
   "source": [
    "from __future__ import divison\n",
    "\n",
    "def factorial(n):\n",
    "    if n < 2:\n",
    "        return 1\n",
    "    else:\n",
    "        return n * factorial(n-1)\n",
    "    \n",
    "def func(n):\n",
    "    total_sum = 0\n",
    "    for x in xrange(1, n+1):\n",
    "        total_sum += 1/factorial(x)\n",
    "        \n",
    "    print n\n",
    "    \n",
    "func(2)\n",
    "func(3)\n",
    "func(5)"
   ]
  },
  {
   "cell_type": "code",
   "execution_count": 21,
   "metadata": {
    "collapsed": false
   },
   "outputs": [
    {
     "name": "stdout",
     "output_type": "stream",
     "text": [
      "Success: test_flatten\n",
      "Success: test_flatten\n",
      "Success: test_flatten\n"
     ]
    }
   ],
   "source": [
    "# Flatten a list.\n",
    "from nose.tools import assert_equal\n",
    "import funcy\n",
    "import morph\n",
    "import collections\n",
    "\n",
    "data = [\n",
    "    [[1, 2, [3]], 4, [5]], [], \n",
    "    [x for x in xrange(10)], \n",
    "    [1, [], 2, 3, [3, '', []]], \n",
    "    [[1], 2, [[3, 4], 5], [[[]]], [[[6]]], 7, 8, []], \n",
    "    [\"junk\",[\"nested stuff\"],[],[[]]]\n",
    "]\n",
    "\n",
    "def flatten(data):\n",
    "    \"\"\"Simple recursive flatten.\"\"\"\n",
    "    ret = []\n",
    "    for x in data:\n",
    "        if isinstance(x, list):\n",
    "            ret.extend(flatten(x))\n",
    "        elif x != '':\n",
    "            ret.append(x)\n",
    "    return ret\n",
    "\n",
    "def flatten_using_morph(data):\n",
    "    \"\"\"Flatten a list using morph library.\"\"\"\n",
    "    return morph.flatten(data)\n",
    "\n",
    "def flatten_using_funcy(data):\n",
    "    \"\"\"Flatten a list using funcy library.\"\"\"\n",
    "    return funcy.flatten(data)\n",
    "            \n",
    "# Incomplete.\n",
    "def flatten_comprehension(data):\n",
    "    \"\"\"Flatten a list using list comprehension.\"\"\"\n",
    "    return [x for y in data for x in y if isinstance(y, list)]\n",
    "\n",
    "# Incomplete.\n",
    "def flatten_itertools(data):\n",
    "    \"\"\"Flatten a list using itertools.\"\"\"\n",
    "    return list(itertools.chain.from_iterable(data))\n",
    "\n",
    "\n",
    "class TestFlatten(object):\n",
    "    def test_flatten_list(self, solution):\n",
    "        assert_equal(solution([[1, 2, [3]], [4]]), [1, 2, 3, 4])\n",
    "        assert_equal(solution([1, [], 2, [3]]), [1, 2, 3])\n",
    "        assert_equal(solution([x for x in xrange(4)]), [0, 1, 2, 3])\n",
    "        assert_equal(solution([[1], 2, [[3], 4]]), [1, 2, 3, 4])\n",
    "        assert_equal(solution([\"abc\",[\"def\"],[]]), ['abc', 'def'])\n",
    "        print 'Success: test_flatten'\n",
    "\n",
    "\n",
    "def main():\n",
    "    test = TestFlatten()\n",
    "    test.test_flatten_list(flatten)\n",
    "    test.test_flatten_list(flatten_using_funcy)\n",
    "    test.test_flatten_list(flatten_using_morph)\n",
    "\n",
    "\n",
    "if __name__ == '__main__':\n",
    "    main()\n"
   ]
  },
  {
   "cell_type": "code",
   "execution_count": null,
   "metadata": {
    "collapsed": true
   },
   "outputs": [],
   "source": []
  }
 ],
 "metadata": {
  "kernelspec": {
   "display_name": "Python 2",
   "language": "python",
   "name": "python2"
  },
  "language_info": {
   "codemirror_mode": {
    "name": "ipython",
    "version": 2
   },
   "file_extension": ".py",
   "mimetype": "text/x-python",
   "name": "python",
   "nbconvert_exporter": "python",
   "pygments_lexer": "ipython2",
   "version": "2.7.11+"
  }
 },
 "nbformat": 4,
 "nbformat_minor": 0
}
