{
 "cells": [
  {
   "cell_type": "code",
   "execution_count": 8,
   "metadata": {
    "collapsed": false
   },
   "outputs": [
    {
     "name": "stdout",
     "output_type": "stream",
     "text": [
      "10   20\n",
      "20   10\n",
      "10   20\n",
      "20   10\n",
      "10   20\n"
     ]
    }
   ],
   "source": [
    "# Swap variables\n",
    "\n",
    "a = 10\n",
    "b = 20\n",
    "print a ,\" \", b\n",
    "\n",
    "# Technique 1\n",
    "a, b = b, a\n",
    "print a ,\" \", b\n",
    "\n",
    "# Technique 2\n",
    "a = a + b\n",
    "b = a - b\n",
    "a = a - b\n",
    "print a ,\" \", b\n",
    "\n",
    "# Technique 3\n",
    "x = a\n",
    "a = b\n",
    "b = x\n",
    "print a ,\" \", b\n",
    "\n",
    "# Technique 4\n",
    "a = a ^ b\n",
    "b = a ^ b\n",
    "a = a ^ b\n",
    "print a ,\" \", b"
   ]
  },
  {
   "cell_type": "code",
   "execution_count": 22,
   "metadata": {
    "collapsed": false
   },
   "outputs": [
    {
     "name": "stdout",
     "output_type": "stream",
     "text": [
      "[9, 8, 7, 6, 5, 4, 3, 2, 1, 0]\n",
      "[9, 8, 7, 6, 5, 4, 3, 2, 1, 0]\n",
      "[9, 8, 7, 6, 5, 4, 3, 2, 1, 0]\n"
     ]
    }
   ],
   "source": [
    "# Reverse a list.\n",
    "\n",
    "arr = [x for x in xrange(10)]\n",
    "\n",
    "# Technique 1 - array slicing\n",
    "print arr[::-1]\n",
    "\n",
    "\n",
    "# Technique 2 - reversed function\n",
    "print list(reversed(arr))\n",
    "\n",
    "\n",
    "# Technique 3 - Simple loop\n",
    "start = 0\n",
    "end = len(arr)-1\n",
    "while start < end:\n",
    "    arr[start], arr[end] = arr[end], arr[start]\n",
    "    start += 1\n",
    "    end -= 1 \n",
    "print arr"
   ]
  },
  {
   "cell_type": "code",
   "execution_count": 23,
   "metadata": {
    "collapsed": false
   },
   "outputs": [
    {
     "name": "stdout",
     "output_type": "stream",
     "text": [
      "[0, 1, 2, 3, 4, 5, 6, 7, 8, 9]\n",
      "[0, 1, 2, 3, 4, 5, 6, 7, 8, 9]\n"
     ]
    }
   ],
   "source": [
    "# Make a copy of a list.\n",
    "\n",
    "arr = [x for x in xrange(10)]\n",
    "\n",
    "# Technique 1 - array slicing.\n",
    "b = arr[:]\n",
    "print b\n",
    "\n",
    "\n",
    "# Technique 2 - deepcopy function.\n",
    "from copy import deepcopy\n",
    "\n",
    "c = deepcopy(arr)\n",
    "print c"
   ]
  },
  {
   "cell_type": "code",
   "execution_count": 12,
   "metadata": {
    "collapsed": false
   },
   "outputs": [
    {
     "name": "stdout",
     "output_type": "stream",
     "text": [
      "a p\n",
      "b q\n",
      "c r\n",
      "d s\n"
     ]
    }
   ],
   "source": [
    "\"\"\"\n",
    "list1 = ['a', 'b', 'c', 'd']\n",
    "list2 = ['p', 'q', 'r', 's']\n",
    "Write code to print\n",
    "a p\n",
    "b q\n",
    "c r\n",
    "d slist1 = ['a', 'b', 'c', 'd']\n",
    "list2 = ['p', 'q', 'r', 's']\n",
    "\n",
    "\"\"\"\n",
    "list1 = ['a', 'b', 'c', 'd']\n",
    "list2 = ['p', 'q', 'r', 's']\n",
    "\n",
    "for i1,i2 in zip(list1,list2):\n",
    "    print i1, i2\n"
   ]
  },
  {
   "cell_type": "code",
   "execution_count": 16,
   "metadata": {
    "collapsed": false
   },
   "outputs": [
    {
     "data": {
      "text/plain": [
       "'AndrewsBoatengPythonDeveloper'"
      ]
     },
     "execution_count": 16,
     "metadata": {},
     "output_type": "execute_result"
    }
   ],
   "source": [
    "# Create a single string from all the elements in list above.\n",
    "\n",
    "def create_string(arr):\n",
    "    if arr is None or len(arr) == 0:\n",
    "        return arr\n",
    "    else:\n",
    "        return \"\".join(arr)\n",
    "\n",
    "arr = [\"Andrews\", \"Boateng\", \"Python\", \"Developer\"]\n",
    "create_string(arr)\n"
   ]
  },
  {
   "cell_type": "code",
   "execution_count": 18,
   "metadata": {
    "collapsed": false
   },
   "outputs": [
    {
     "name": "stdout",
     "output_type": "stream",
     "text": [
      "[]\n"
     ]
    }
   ],
   "source": [
    "# What will be the output of the code below?\n",
    "\n",
    "arr = ['a', 'b', 'c', 'd', 'e']\n",
    "print arr[10:]"
   ]
  },
  {
   "cell_type": "code",
   "execution_count": 19,
   "metadata": {
    "collapsed": false
   },
   "outputs": [
    {
     "name": "stdout",
     "output_type": "stream",
     "text": [
      "2\n",
      "101\n",
      "2\n",
      "2\n",
      "2\n",
      "100100\n"
     ]
    }
   ],
   "source": [
    "# What will be the output of the code below?\n",
    "\n",
    "class C(object):\n",
    "    x = 2\n",
    "    \n",
    "c1 = C()\n",
    "c2 = C()\n",
    "print c1.x\n",
    "\n",
    "c1.x = 101\n",
    "print c1.x\n",
    "print c2.x\n",
    "\n",
    "del c1.x\n",
    "print c1.x\n",
    "print c2.x\n",
    "\n",
    "C.x = 100100\n",
    "print c1.x"
   ]
  },
  {
   "cell_type": "code",
   "execution_count": null,
   "metadata": {
    "collapsed": true
   },
   "outputs": [],
   "source": []
  }
 ],
 "metadata": {
  "kernelspec": {
   "display_name": "Python 2",
   "language": "python",
   "name": "python2"
  },
  "language_info": {
   "codemirror_mode": {
    "name": "ipython",
    "version": 2
   },
   "file_extension": ".py",
   "mimetype": "text/x-python",
   "name": "python",
   "nbconvert_exporter": "python",
   "pygments_lexer": "ipython2",
   "version": "2.7.11+"
  }
 },
 "nbformat": 4,
 "nbformat_minor": 0
}
