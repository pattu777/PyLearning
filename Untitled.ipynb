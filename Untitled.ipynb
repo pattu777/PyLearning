{
 "cells": [
  {
   "cell_type": "code",
   "execution_count": 26,
   "metadata": {
    "collapsed": false
   },
   "outputs": [
    {
     "name": "stdout",
     "output_type": "stream",
     "text": [
      "Success: test_trie_search\n"
     ]
    }
   ],
   "source": [
    "\"\"\"\n",
    "\n",
    "Lets say you have an array with a list of sub strings. Write a function that takes an input string and return true if the string can be divided into substrings contained in the array.\n",
    "Example: array: [‘and’, ‘the’, ‘back’, ‘front’, ‘ory’ , ‘end’, ‘po’ , ‘pu’, ‘lar’]\n",
    "function subDivideString(inputString):\n",
    "\n",
    "if inputString ==’backend’   return true since array has ‘back’ , ‘end’\n",
    "if inputString == ‘popular’  return true since array has ‘po’ , ‘pu’, ‘lar’\n",
    "if inputString == ‘backwards’   return false since array doesnt have ‘wards’\n",
    "if inputString == ‘swapan’   return false since array doesnt have any part of the word.\n",
    "\"\"\"\n",
    "\n",
    "from nose.tools import assert_equal\n",
    "\n",
    "class Node(object):\n",
    "    def __init__(self, is_end=False):\n",
    "        self.children = {}\n",
    "        self.is_end = is_end\n",
    "        \n",
    "class Trie(object):\n",
    "    def __init__(self):\n",
    "        self.root = Node()\n",
    "        \n",
    "    \n",
    "    def insert(self, word):\n",
    "        \"\"\"\n",
    "        Inser a word into the trie.\n",
    "        \"\"\"\n",
    "        if not isinstance(word, str):\n",
    "            raise TypeError\n",
    "            \n",
    "        current = self.root\n",
    "        for ch in word:\n",
    "            if ch not in current.children:\n",
    "                current.children[ch] = Node()\n",
    "            current = current.children[ch]\n",
    "        current.is_end = True\n",
    "          \n",
    "        \n",
    "def search_trie(list_of_words, data):\n",
    "    \"\"\"Search in the trie for the word.\"\"\"\n",
    "    if data is None or len(data) == 0:\n",
    "        return False\n",
    "    else:\n",
    "        tr = Trie()\n",
    "        for word in list_of_words:\n",
    "            tr.insert(word)\n",
    "            \n",
    "        current = tr.root\n",
    "        for x in data:\n",
    "            if current.is_end:\n",
    "                current = tr.root\n",
    "            if x not in current.children:\n",
    "                return False\n",
    "            else:\n",
    "                current = current.children[x]\n",
    "        \n",
    "        return current.is_end\n",
    "            \n",
    "\n",
    "        \n",
    "def search_substrings(list_of_words, data):\n",
    "    tr = Trie()\n",
    "    for word in list_of_words:\n",
    "        tr.insert(word)\n",
    "        \n",
    "    print search_trie(tr, data)\n",
    "        \n",
    "        \n",
    "class TestTrie(object):\n",
    "    def test_search(self, solution):\n",
    "        arr = [\"and\", \"the\", \"back\", \"front\", \"ory\" , \"end\", \"po\" , \"pu\", \"lar\"]\n",
    "        assert_equal(solution(arr, 'backend'), True)\n",
    "        assert_equal(solution(arr, 'back'), True)\n",
    "        assert_equal(solution(arr, 'theend'), True)\n",
    "        assert_equal(solution(arr, 'popular'), True)\n",
    "        assert_equal(solution(arr, 'pop'), False)\n",
    "        assert_equal(solution(arr, ''), False)\n",
    "        assert_equal(solution(arr, 'backwards'), False)\n",
    "        assert_equal(solution(arr, 'swapan'), False)\n",
    "        assert_equal(solution(arr, 'andthebackfrontoryendpopular'), True)\n",
    "        print 'Success: test_trie_search'\n",
    "\n",
    "\n",
    "def main():\n",
    "    test = TestTrie()\n",
    "    test.test_search(search_trie)\n",
    "    \n",
    "\n",
    "if __name__ == '__main__':\n",
    "    main()\n"
   ]
  },
  {
   "cell_type": "code",
   "execution_count": null,
   "metadata": {
    "collapsed": true
   },
   "outputs": [],
   "source": []
  }
 ],
 "metadata": {
  "kernelspec": {
   "display_name": "Python 2",
   "language": "python",
   "name": "python2"
  },
  "language_info": {
   "codemirror_mode": {
    "name": "ipython",
    "version": 2
   },
   "file_extension": ".py",
   "mimetype": "text/x-python",
   "name": "python",
   "nbconvert_exporter": "python",
   "pygments_lexer": "ipython2",
   "version": "2.7.11+"
  }
 },
 "nbformat": 4,
 "nbformat_minor": 0
}
